{
 "cells": [
  {
   "cell_type": "code",
   "execution_count": 12,
   "metadata": {},
   "outputs": [],
   "source": [
    "import numpy as np\n",
    "from scipy.optimize import curve_fit\n",
    "\n",
    "wpm = 90\n",
    "bg_min_samples = 50"
   ]
  },
  {
   "cell_type": "code",
   "execution_count": 13,
   "metadata": {},
   "outputs": [],
   "source": [
    "# Helper function IQR average for time processing later\n",
    "def get_iqr_avg(data):\n",
    "    Q1 = np.percentile(data, 25)\n",
    "    Q3 = np.percentile(data, 75)\n",
    "    IQR = Q3-Q1\n",
    "\n",
    "    lower_bound = Q1 - 1.5 * IQR\n",
    "    upper_bound = Q3 + 1.5 * IQR\n",
    "\n",
    "    new_data = [x for x in data if x >= lower_bound and x <= upper_bound]\n",
    "        \n",
    "    return sum(new_data)/len(new_data)\n",
    "\n",
    "# because eval is so freaking slow\n",
    "def str_to_tuple(s):\n",
    "    return tuple(map(int,s.strip(\"()\").split(\", \")))\n",
    "\n",
    "with open(\"bistrokes.tsv\") as f2:\n",
    "    bistroke_data = [(eval(a), b, *[s for x in c  if ((s := str_to_tuple(x))[0] >= wpm)]) for (a, b, *c) in (l.strip().split(\"\\t\") for l in f2) if (not any([c in \"QWERTYUIOPASDFGHJKL:ZXCVBNM<>? \" for c in b]))] # and not any([char in \"\" for char in b])\n",
    "    bistroke_data = [bd for bd in bistroke_data if (len(bd)-2 >= bg_min_samples)]\n",
    "\n",
    "bigram_to_freq = {}\n",
    "\n",
    "with open(\"bigrams.txt\") as f:\n",
    "    for k, v in (l.split(\"\\t\") for l in f):\n",
    "        bigram_to_freq[k] = int(v)"
   ]
  },
  {
   "cell_type": "code",
   "execution_count": 14,
   "metadata": {},
   "outputs": [],
   "source": [
    "times = np.zeros(len(bistroke_data))\n",
    "sfb = np.zeros(len(bistroke_data))\n",
    "freqs = np.zeros(len(bistroke_data))\n",
    "col = [\"green\" for _ in range(len(bistroke_data))]\n",
    "\n",
    "for i, bs in enumerate(bistroke_data):\n",
    "    ((ax, ay), (bx, by)), bigram, *bistroke_times = bs\n",
    "\n",
    "    times[i] = get_iqr_avg([t[1] for t in bistroke_times])\n",
    "\n",
    "    shb = ((ax//abs(ax)) == (bx//abs(bx)))\n",
    "    scb = (ax==bx)\n",
    "    sfb[i] = (scb or (shb and (abs(ax) in (1,2) and abs(bx) in (1,2))))\n",
    "\n",
    "    if sfb[i]:\n",
    "        col[i] = \"red\"\n",
    "\n",
    "    freqs[i] = bigram_to_freq[bigram]"
   ]
  },
  {
   "cell_type": "code",
   "execution_count": 15,
   "metadata": {},
   "outputs": [
    {
     "name": "stdout",
     "output_type": "stream",
     "text": [
      "R^2: 0.5645246941688662\n",
      "MAE: 16.495250637296326\n"
     ]
    }
   ],
   "source": [
    "def get_time(features, p0, p1, p2, p3):\n",
    "    freq, sfb = features\n",
    "\n",
    "    freq_pen = (p0*np.log(freq+p1)+p2)\n",
    "\n",
    "    return freq_pen*(sfb+p3)\n",
    "\n",
    "bg_popt, bg_pcov = curve_fit(get_time, [freqs, sfb], times, method=\"trf\", maxfev=750000) # \"trf\" p0=initial_guess\n",
    "\n",
    "sum_of_squares = np.sum((times - np.mean(times))**2)\n",
    "\n",
    "new_y = get_time([freqs, sfb], *bg_popt)\n",
    "residuals = times-new_y\n",
    "r2 = 1 - np.sum((residuals)**2)/sum_of_squares\n",
    "\n",
    "print(\"R^2:\", r2)\n",
    "print(\"MAE:\", np.mean(np.abs(residuals)))\n"
   ]
  },
  {
   "cell_type": "code",
   "execution_count": 21,
   "metadata": {},
   "outputs": [],
   "source": [
    "%matplotlib qt\n",
    "\n",
    "import matplotlib.pyplot as plt\n",
    "\n",
    "plt.figure()\n",
    "\n",
    "#xx, yy, ll, fit_y, c = zip(*sorted([r for r in zip(freqs, times, bg_labels, new_y) if r[-1] != \"blue\"], key=lambda x: x[0], reverse=True))\n",
    "xx, yy, fit_y, cc = zip(*sorted([r for r in zip(freqs, times, new_y, col)], key = lambda x: -x[0]))\n",
    "# xx = list((range(len(xx))))\n",
    "scatter = plt.scatter(xx, yy, s=50, c=cc)\n",
    "\n",
    "plt.plot(xx, fit_y, c=\"black\")\n",
    "plt.xlabel(\"Number of Occurences\")\n",
    "plt.ylabel(\"Average Typing Time (Milliseconds)\")\n",
    "plt.xscale(\"log\")\n",
    "\n",
    "plt.show()"
   ]
  }
 ],
 "metadata": {
  "kernelspec": {
   "display_name": "Python 3",
   "language": "python",
   "name": "python3"
  },
  "language_info": {
   "codemirror_mode": {
    "name": "ipython",
    "version": 3
   },
   "file_extension": ".py",
   "mimetype": "text/x-python",
   "name": "python",
   "nbconvert_exporter": "python",
   "pygments_lexer": "ipython3",
   "version": "3.8.10"
  }
 },
 "nbformat": 4,
 "nbformat_minor": 2
}
