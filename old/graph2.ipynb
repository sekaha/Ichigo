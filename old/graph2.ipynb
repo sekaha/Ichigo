{
 "cells": [
  {
   "cell_type": "code",
   "execution_count": 1,
   "metadata": {},
   "outputs": [],
   "source": [
    "import classifier\n",
    "from scipy.optimize import curve_fit\n",
    "import numpy as np\n",
    "\n",
    "red, green, blue, charcoal = '#ff0040', '#00aa00', '#187bff', \"#3b3b3b\"\n",
    "\n",
    "bistroke_times = {}\n",
    "bistroke_freq = {}\n",
    "bigrams = set()\n",
    "\n",
    "with open(f\"nstrokes/bistrokes_0.txt\") as file:\n",
    "    for l in file:\n",
    "        layout, bigram, freq, *times = l.split(\"\\t\")\n",
    "\n",
    "        if bigram not in bigrams:\n",
    "            bigrams.add(bigram)\n",
    "            \n",
    "        bistroke_freq[(layout, bigram)] = int(freq)\n",
    "        bistroke_times[(layout, bigram)] = [\n",
    "            list(map(int, t.strip()[1:-1].split(\", \"))) for t in times\n",
    "        ]"
   ]
  },
  {
   "cell_type": "code",
   "execution_count": 3,
   "metadata": {},
   "outputs": [
    {
     "name": "stderr",
     "output_type": "stream",
     "text": [
      "/tmp/ipykernel_6963/3040389284.py:6: RuntimeWarning: invalid value encountered in log\n",
      "  return a * np.log(x + b) + c\n"
     ]
    },
    {
     "name": "stdout",
     "output_type": "stream",
     "text": [
      "dvorak ,q [[36, 1497]]\n",
      "dvorak jq [[8, 1818]]\n"
     ]
    }
   ],
   "source": [
    "%matplotlib qt\n",
    "import matplotlib.pyplot as plt\n",
    "from matplotlib.colors import LinearSegmentedColormap\n",
    "\n",
    "def log_function(x, a, b, c):\n",
    "    return a * np.log(x + b) + c\n",
    "\n",
    "\n",
    "for layout in (\"qwerty\", \"dvorak\"):\n",
    "    freqs = []\n",
    "    times = []\n",
    "    is_sfb = []\n",
    "    c = []\n",
    "\n",
    "    for bg in bigrams:\n",
    "        if not any([c in '!@#$%^&*()QWERTYUIOP{}|ASDFGHJKL:\"ZXCVBNM<>?' for c in bg]):\n",
    "            if (layout, bg) in bistroke_freq:\n",
    "                try:\n",
    "                    time_data = [t[1] for t in bistroke_times[(layout, bg)] if (t[0] > 1 and t[1] < 1000)]\n",
    "                    x_val = bistroke_freq[(layout, bg)]\n",
    "                    y_val = sum(time_data) / len(time_data)\n",
    "                    \n",
    "                    if x_val != 0:\n",
    "                        freqs.append(x_val)\n",
    "                        times.append(y_val)\n",
    "                        is_sfb.append(int(classifier.same_finger(bg)))\n",
    "                        c.append(red if is_sfb[-1] else green)\n",
    "                except:\n",
    "                    print(layout, bg, bistroke_times[(layout, bg)])\n",
    "\n",
    "    freqs, times, is_sfb, c = zip(*sorted(zip(freqs, times, is_sfb, c), key = lambda x: x[0]))\n",
    "\n",
    "    freqs = np.array(freqs)\n",
    "    times = np.array(times)\n",
    "    is_sfb = np.array(is_sfb)\n",
    "\n",
    "    input_data = [freqs, is_sfb]\n",
    "    popt, pcov = curve_fit(log_function, freqs, times)\n",
    "\n",
    "    mycmap = LinearSegmentedColormap.from_list('custom_colormap', list(reversed(['#fff829', '#f4f730', '#e8f737', '#ddf63f', '#d1f546', '#c5f34d', '#b9f254', '#acf15b', '#a0ef62', '#92ed68', '#85ec6e', '#76ea74', '#66e77a', '#55e580', '#41e385', '#24e08b', '#00dd90', '#00da95', '#00d799', '#00d49e', '#00d1a2', '#00cda6', '#00caaa', '#00c6ae', '#00c2b1', '#00beb4', '#00bab7', '#00b6ba', '#00b2bc', '#00adbf', '#00a9c0', '#00a4c2', '#00a0c3', '#009bc4', '#0096c5', '#0091c6', '#008dc6', '#0088c6', '#0083c5', '#007ec4', '#0079c3', '#0074c2', '#006fc0', '#0069be', '#0064bc', '#005fb9', '#145ab6', '#2155b3', '#2950b0', '#304bac', '#3547a8', '#3942a4', '#3d3d9f', '#40389b', '#423396', '#442f91', '#462a8b', '#472586', '#482080', '#491c7a', '#491775', '#49116f', '#490c68', '#490562'])))\n",
    "\n",
    "    plt.figure()\n",
    "\n",
    "    title = f\"Relationship Between English Bigram Frequency and Typing Time on {str(layout).title()}\"\n",
    "    \n",
    "    plt.title(title)\n",
    "\n",
    "    new_y = log_function(freqs, *popt)\n",
    "    scatter = plt.scatter(freqs, times, c=charcoal, s=10)\n",
    "\n",
    "    plt.plot(freqs, new_y, c=red)\n",
    "    plt.xlabel(\"Number of Occurrences in Corpus \")\n",
    "    plt.ylabel(\"Average Typing Time (Milliseconds)\")\n",
    "    plt.xscale(\"log\")\n",
    "\n",
    "    plt.show()"
   ]
  }
 ],
 "metadata": {
  "kernelspec": {
   "display_name": "Python 3",
   "language": "python",
   "name": "python3"
  },
  "language_info": {
   "codemirror_mode": {
    "name": "ipython",
    "version": 3
   },
   "file_extension": ".py",
   "mimetype": "text/x-python",
   "name": "python",
   "nbconvert_exporter": "python",
   "pygments_lexer": "ipython3",
   "version": "3.8.10"
  }
 },
 "nbformat": 4,
 "nbformat_minor": 2
}
